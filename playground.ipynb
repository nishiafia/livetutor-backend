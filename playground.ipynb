{
 "cells": [
  {
   "cell_type": "code",
   "execution_count": 1,
   "metadata": {},
   "outputs": [],
   "source": [
    "import os\n",
    "import django\n",
    "os.environ.setdefault('DJANGO_SETTINGS_MODULE', 'livetutor.settings')\n",
    "os.environ[\"DJANGO_ALLOW_ASYNC_UNSAFE\"] = \"true\"\n",
    "django.setup()\n",
    "from users.models import *\n",
    "from room.models import *\n",
    "from task.models import *\n",
    "from meeting.models import *\n",
    "from django.db.models import  *\n",
    "from payment.models import *\n",
    "from listing.models import *\n",
    "from categories.models import *"
   ]
  },
  {
   "cell_type": "code",
   "execution_count": 3,
   "metadata": {},
   "outputs": [],
   "source": [
    "a,c=ExamSubmissionMark.objects.get_or_create(\n",
    "    exam_submission_id='e0f499602d1744e8b91b8df800fdd0d6'\n",
    ")"
   ]
  },
  {
   "cell_type": "code",
   "execution_count": 5,
   "metadata": {},
   "outputs": [
    {
     "data": {
      "text/plain": [
       "0"
      ]
     },
     "execution_count": 5,
     "metadata": {},
     "output_type": "execute_result"
    }
   ],
   "source": [
    "a.mark"
   ]
  },
  {
   "cell_type": "code",
   "execution_count": 12,
   "metadata": {},
   "outputs": [],
   "source": [
    "a.mark=55\n",
    "a.save()"
   ]
  },
  {
   "cell_type": "code",
   "execution_count": 15,
   "metadata": {},
   "outputs": [
    {
     "data": {
      "text/plain": [
       "55"
      ]
     },
     "execution_count": 15,
     "metadata": {},
     "output_type": "execute_result"
    }
   ],
   "source": [
    "a.mark"
   ]
  },
  {
   "cell_type": "code",
   "execution_count": 2,
   "metadata": {},
   "outputs": [
    {
     "ename": "RelatedObjectDoesNotExist",
     "evalue": "AssignmentSubmission has no submission_mark.",
     "output_type": "error",
     "traceback": [
      "\u001b[1;31m---------------------------------------------------------------------------\u001b[0m",
      "\u001b[1;31mRelatedObjectDoesNotExist\u001b[0m                 Traceback (most recent call last)",
      "\u001b[1;32mc:\\Users\\yeami\\livetutor\\playground.ipynb Cell 2\u001b[0m in \u001b[0;36m<cell line: 1>\u001b[1;34m()\u001b[0m\n\u001b[0;32m      <a href='vscode-notebook-cell:/c%3A/Users/yeami/livetutor/playground.ipynb#ch0000011?line=0'>1</a>\u001b[0m AssignmentSubmission\u001b[39m.\u001b[39;49mobjects\u001b[39m.\u001b[39;49mget(\n\u001b[0;32m      <a href='vscode-notebook-cell:/c%3A/Users/yeami/livetutor/playground.ipynb#ch0000011?line=1'>2</a>\u001b[0m     \u001b[39mid\u001b[39;49m\u001b[39m=\u001b[39;49m\u001b[39m'\u001b[39;49m\u001b[39m4793b584b4d14c66b974475b568088a4\u001b[39;49m\u001b[39m'\u001b[39;49m\n\u001b[1;32m----> <a href='vscode-notebook-cell:/c%3A/Users/yeami/livetutor/playground.ipynb#ch0000011?line=2'>3</a>\u001b[0m )\u001b[39m.\u001b[39;49msubmission_mark\n",
      "File \u001b[1;32mc:\\Users\\yeami\\livetutor\\venv\\lib\\site-packages\\django\\db\\models\\fields\\related_descriptors.py:461\u001b[0m, in \u001b[0;36mReverseOneToOneDescriptor.__get__\u001b[1;34m(self, instance, cls)\u001b[0m\n\u001b[0;32m    458\u001b[0m     \u001b[39mself\u001b[39m\u001b[39m.\u001b[39mrelated\u001b[39m.\u001b[39mset_cached_value(instance, rel_obj)\n\u001b[0;32m    460\u001b[0m \u001b[39mif\u001b[39;00m rel_obj \u001b[39mis\u001b[39;00m \u001b[39mNone\u001b[39;00m:\n\u001b[1;32m--> 461\u001b[0m     \u001b[39mraise\u001b[39;00m \u001b[39mself\u001b[39m\u001b[39m.\u001b[39mRelatedObjectDoesNotExist(\n\u001b[0;32m    462\u001b[0m         \u001b[39m\"\u001b[39m\u001b[39m%s\u001b[39;00m\u001b[39m has no \u001b[39m\u001b[39m%s\u001b[39;00m\u001b[39m.\u001b[39m\u001b[39m\"\u001b[39m\n\u001b[0;32m    463\u001b[0m         \u001b[39m%\u001b[39m (instance\u001b[39m.\u001b[39m\u001b[39m__class__\u001b[39m\u001b[39m.\u001b[39m\u001b[39m__name__\u001b[39m, \u001b[39mself\u001b[39m\u001b[39m.\u001b[39mrelated\u001b[39m.\u001b[39mget_accessor_name())\n\u001b[0;32m    464\u001b[0m     )\n\u001b[0;32m    465\u001b[0m \u001b[39melse\u001b[39;00m:\n\u001b[0;32m    466\u001b[0m     \u001b[39mreturn\u001b[39;00m rel_obj\n",
      "\u001b[1;31mRelatedObjectDoesNotExist\u001b[0m: AssignmentSubmission has no submission_mark."
     ]
    }
   ],
   "source": [
    "AssignmentSubmission.objects.get(\n",
    "    id=''\n",
    ").submission_mark"
   ]
  },
  {
   "cell_type": "code",
   "execution_count": 13,
   "metadata": {},
   "outputs": [
    {
     "data": {
      "text/plain": [
       "<QuerySet [{'id': 1, 'created_at': datetime.datetime(2022, 7, 8, 14, 38, 23, 933785, tzinfo=datetime.timezone.utc), 'updated_at': datetime.datetime(2022, 7, 8, 14, 38, 23, 933785, tzinfo=datetime.timezone.utc), 'is_active': True, 'room_id': 1, 'name': 'Motijheel', 'description': 'fsafsafas', 'start_date_time': datetime.datetime(2022, 7, 8, 14, 38, 20, tzinfo=datetime.timezone.utc), 'end_date_time': datetime.datetime(2022, 7, 8, 14, 38, 22, tzinfo=datetime.timezone.utc)}, {'id': 2, 'created_at': datetime.datetime(2022, 7, 11, 16, 58, 12, 117909, tzinfo=datetime.timezone.utc), 'updated_at': datetime.datetime(2022, 7, 11, 16, 58, 12, 117909, tzinfo=datetime.timezone.utc), 'is_active': True, 'room_id': 4, 'name': 'ASFASFASF', 'description': 'faasfasfasf', 'start_date_time': datetime.datetime(2022, 7, 21, 0, 50, tzinfo=datetime.timezone.utc), 'end_date_time': datetime.datetime(2022, 7, 21, 11, 31, tzinfo=datetime.timezone.utc)}, {'id': 3, 'created_at': datetime.datetime(2022, 7, 11, 16, 58, 12, 127911, tzinfo=datetime.timezone.utc), 'updated_at': datetime.datetime(2022, 7, 11, 16, 58, 12, 127911, tzinfo=datetime.timezone.utc), 'is_active': True, 'room_id': 4, 'name': 'ASFASFASF', 'description': 'faasfasfasf', 'start_date_time': datetime.datetime(2022, 7, 29, 0, 50, tzinfo=datetime.timezone.utc), 'end_date_time': datetime.datetime(2022, 7, 29, 11, 31, tzinfo=datetime.timezone.utc)}, {'id': 4, 'created_at': datetime.datetime(2022, 7, 11, 16, 58, 12, 141911, tzinfo=datetime.timezone.utc), 'updated_at': datetime.datetime(2022, 7, 11, 16, 58, 12, 141911, tzinfo=datetime.timezone.utc), 'is_active': True, 'room_id': 4, 'name': 'ASFASFASF', 'description': 'faasfasfasf', 'start_date_time': datetime.datetime(2022, 7, 30, 0, 50, tzinfo=datetime.timezone.utc), 'end_date_time': datetime.datetime(2022, 7, 30, 11, 31, tzinfo=datetime.timezone.utc)}, {'id': 5, 'created_at': datetime.datetime(2022, 7, 11, 16, 58, 12, 151911, tzinfo=datetime.timezone.utc), 'updated_at': datetime.datetime(2022, 7, 11, 16, 58, 12, 151911, tzinfo=datetime.timezone.utc), 'is_active': True, 'room_id': 4, 'name': 'ASFASFASF', 'description': 'faasfasfasf', 'start_date_time': datetime.datetime(2022, 7, 23, 0, 50, tzinfo=datetime.timezone.utc), 'end_date_time': datetime.datetime(2022, 7, 23, 11, 31, tzinfo=datetime.timezone.utc)}, {'id': 6, 'created_at': datetime.datetime(2022, 7, 11, 16, 58, 12, 162912, tzinfo=datetime.timezone.utc), 'updated_at': datetime.datetime(2022, 7, 11, 16, 58, 12, 162912, tzinfo=datetime.timezone.utc), 'is_active': True, 'room_id': 4, 'name': 'ASFASFASF', 'description': 'faasfasfasf', 'start_date_time': datetime.datetime(2022, 7, 22, 0, 50, tzinfo=datetime.timezone.utc), 'end_date_time': datetime.datetime(2022, 7, 22, 11, 31, tzinfo=datetime.timezone.utc)}, {'id': 7, 'created_at': datetime.datetime(2022, 7, 11, 16, 58, 12, 172913, tzinfo=datetime.timezone.utc), 'updated_at': datetime.datetime(2022, 7, 11, 16, 58, 12, 172913, tzinfo=datetime.timezone.utc), 'is_active': True, 'room_id': 4, 'name': 'ASFASFASF', 'description': 'faasfasfasf', 'start_date_time': datetime.datetime(2022, 7, 27, 0, 50, tzinfo=datetime.timezone.utc), 'end_date_time': datetime.datetime(2022, 7, 27, 11, 31, tzinfo=datetime.timezone.utc)}, {'id': 8, 'created_at': datetime.datetime(2022, 7, 11, 16, 58, 12, 188915, tzinfo=datetime.timezone.utc), 'updated_at': datetime.datetime(2022, 7, 11, 16, 58, 12, 188915, tzinfo=datetime.timezone.utc), 'is_active': True, 'room_id': 4, 'name': 'ASFASFASF', 'description': 'faasfasfasf', 'start_date_time': datetime.datetime(2022, 7, 26, 0, 50, tzinfo=datetime.timezone.utc), 'end_date_time': datetime.datetime(2022, 7, 26, 11, 31, tzinfo=datetime.timezone.utc)}, {'id': 9, 'created_at': datetime.datetime(2022, 7, 11, 16, 58, 12, 198915, tzinfo=datetime.timezone.utc), 'updated_at': datetime.datetime(2022, 7, 11, 16, 58, 12, 198915, tzinfo=datetime.timezone.utc), 'is_active': True, 'room_id': 4, 'name': 'ASFASFASF', 'description': 'faasfasfasf', 'start_date_time': datetime.datetime(2022, 7, 19, 0, 50, tzinfo=datetime.timezone.utc), 'end_date_time': datetime.datetime(2022, 7, 19, 11, 31, tzinfo=datetime.timezone.utc)}, {'id': 10, 'created_at': datetime.datetime(2022, 7, 11, 16, 59, 50, 725103, tzinfo=datetime.timezone.utc), 'updated_at': datetime.datetime(2022, 7, 11, 16, 59, 50, 725103, tzinfo=datetime.timezone.utc), 'is_active': True, 'room_id': 4, 'name': 'ASFASFASF', 'description': 'faasfasfasf', 'start_date_time': datetime.datetime(2022, 7, 21, 0, 50, tzinfo=datetime.timezone.utc), 'end_date_time': datetime.datetime(2022, 7, 21, 0, 55, tzinfo=datetime.timezone.utc)}, {'id': 11, 'created_at': datetime.datetime(2022, 7, 11, 16, 59, 50, 736105, tzinfo=datetime.timezone.utc), 'updated_at': datetime.datetime(2022, 7, 11, 16, 59, 50, 736105, tzinfo=datetime.timezone.utc), 'is_active': True, 'room_id': 4, 'name': 'ASFASFASF', 'description': 'faasfasfasf', 'start_date_time': datetime.datetime(2022, 7, 29, 0, 50, tzinfo=datetime.timezone.utc), 'end_date_time': datetime.datetime(2022, 7, 29, 0, 55, tzinfo=datetime.timezone.utc)}, {'id': 12, 'created_at': datetime.datetime(2022, 7, 11, 16, 59, 50, 746105, tzinfo=datetime.timezone.utc), 'updated_at': datetime.datetime(2022, 7, 11, 16, 59, 50, 746105, tzinfo=datetime.timezone.utc), 'is_active': True, 'room_id': 4, 'name': 'ASFASFASF', 'description': 'faasfasfasf', 'start_date_time': datetime.datetime(2022, 7, 30, 0, 50, tzinfo=datetime.timezone.utc), 'end_date_time': datetime.datetime(2022, 7, 30, 0, 55, tzinfo=datetime.timezone.utc)}, {'id': 13, 'created_at': datetime.datetime(2022, 7, 11, 16, 59, 50, 761107, tzinfo=datetime.timezone.utc), 'updated_at': datetime.datetime(2022, 7, 11, 16, 59, 50, 761107, tzinfo=datetime.timezone.utc), 'is_active': True, 'room_id': 4, 'name': 'ASFASFASF', 'description': 'faasfasfasf', 'start_date_time': datetime.datetime(2022, 7, 23, 0, 50, tzinfo=datetime.timezone.utc), 'end_date_time': datetime.datetime(2022, 7, 23, 0, 55, tzinfo=datetime.timezone.utc)}, {'id': 14, 'created_at': datetime.datetime(2022, 7, 11, 16, 59, 50, 775108, tzinfo=datetime.timezone.utc), 'updated_at': datetime.datetime(2022, 7, 11, 16, 59, 50, 775108, tzinfo=datetime.timezone.utc), 'is_active': True, 'room_id': 4, 'name': 'ASFASFASF', 'description': 'faasfasfasf', 'start_date_time': datetime.datetime(2022, 7, 22, 0, 50, tzinfo=datetime.timezone.utc), 'end_date_time': datetime.datetime(2022, 7, 22, 0, 55, tzinfo=datetime.timezone.utc)}, {'id': 15, 'created_at': datetime.datetime(2022, 7, 11, 16, 59, 50, 790108, tzinfo=datetime.timezone.utc), 'updated_at': datetime.datetime(2022, 7, 11, 16, 59, 50, 790108, tzinfo=datetime.timezone.utc), 'is_active': True, 'room_id': 4, 'name': 'ASFASFASF', 'description': 'faasfasfasf', 'start_date_time': datetime.datetime(2022, 7, 27, 0, 50, tzinfo=datetime.timezone.utc), 'end_date_time': datetime.datetime(2022, 7, 27, 0, 55, tzinfo=datetime.timezone.utc)}, {'id': 16, 'created_at': datetime.datetime(2022, 7, 11, 16, 59, 50, 800108, tzinfo=datetime.timezone.utc), 'updated_at': datetime.datetime(2022, 7, 11, 16, 59, 50, 800108, tzinfo=datetime.timezone.utc), 'is_active': True, 'room_id': 4, 'name': 'ASFASFASF', 'description': 'faasfasfasf', 'start_date_time': datetime.datetime(2022, 7, 26, 0, 50, tzinfo=datetime.timezone.utc), 'end_date_time': datetime.datetime(2022, 7, 26, 0, 55, tzinfo=datetime.timezone.utc)}, {'id': 17, 'created_at': datetime.datetime(2022, 7, 11, 16, 59, 50, 813111, tzinfo=datetime.timezone.utc), 'updated_at': datetime.datetime(2022, 7, 11, 16, 59, 50, 813111, tzinfo=datetime.timezone.utc), 'is_active': True, 'room_id': 4, 'name': 'ASFASFASF', 'description': 'faasfasfasf', 'start_date_time': datetime.datetime(2022, 7, 19, 0, 50, tzinfo=datetime.timezone.utc), 'end_date_time': datetime.datetime(2022, 7, 19, 0, 55, tzinfo=datetime.timezone.utc)}]>"
      ]
     },
     "execution_count": 13,
     "metadata": {},
     "output_type": "execute_result"
    }
   ],
   "source": [
    "Meeting.objects.all().values()\n"
   ]
  },
  {
   "cell_type": "code",
   "execution_count": 14,
   "metadata": {},
   "outputs": [
    {
     "data": {
      "text/plain": [
       "<QuerySet [{'id': 1, 'created_at': datetime.datetime(2022, 7, 1, 16, 20, 28, 452647, tzinfo=datetime.timezone.utc), 'updated_at': datetime.datetime(2022, 7, 8, 15, 11, 1, 322471, tzinfo=datetime.timezone.utc), 'is_active': True, 'user_id': 1, 'about': 'asfasfasfasf', 'price_monthly': Decimal('444.00'), 'price_course': Decimal('4444.00'), 'trial_time': 30, 'active': True, 'verified': True, 'video_link': 'https://www.youtube.com/watch?v=05DAYCWU4nY', 'availability': 'online'}]>"
      ]
     },
     "execution_count": 14,
     "metadata": {},
     "output_type": "execute_result"
    }
   ],
   "source": [
    "TeacherListing.objects.all().values()"
   ]
  },
  {
   "cell_type": "code",
   "execution_count": 12,
   "metadata": {},
   "outputs": [
    {
     "data": {
      "text/plain": [
       "<QuerySet [{'room__author': 2}, {'room__author': 1}, {'room__author': 1}, {'room__author': 1}, {'room__author': 1}, {'room__author': 1}, {'room__author': 1}, {'room__author': 1}, {'room__author': 1}, {'room__author': 1}, {'room__author': 1}, {'room__author': 1}, {'room__author': 1}, {'room__author': 1}, {'room__author': 1}, {'room__author': 1}, {'room__author': 1}]>"
      ]
     },
     "execution_count": 12,
     "metadata": {},
     "output_type": "execute_result"
    }
   ],
   "source": [
    "Meeting.objects.filter(\n",
    ").values('room__author')\n"
   ]
  },
  {
   "cell_type": "code",
   "execution_count": null,
   "metadata": {},
   "outputs": [],
   "source": []
  },
  {
   "cell_type": "code",
   "execution_count": 5,
   "metadata": {},
   "outputs": [
    {
     "data": {
      "text/plain": [
       "<QuerySet [<TeacherListing: TeacherListing object (1)>]>"
      ]
     },
     "execution_count": 5,
     "metadata": {},
     "output_type": "execute_result"
    }
   ],
   "source": [
    "TeacherListing.objects.filter(grades__in=[1,3])"
   ]
  },
  {
   "cell_type": "code",
   "execution_count": null,
   "metadata": {},
   "outputs": [],
   "source": []
  },
  {
   "cell_type": "code",
   "execution_count": null,
   "metadata": {},
   "outputs": [],
   "source": [
    "Activity.objects.create(userId=2, date='2022-01-01', place='home')"
   ]
  },
  {
   "cell_type": "code",
   "execution_count": null,
   "metadata": {},
   "outputs": [],
   "source": [
    "x=Activity.objects.values('userId','date').annotate(place=Max('place'))"
   ]
  },
  {
   "cell_type": "code",
   "execution_count": null,
   "metadata": {},
   "outputs": [],
   "source": [
    "print(x.query)"
   ]
  },
  {
   "cell_type": "code",
   "execution_count": null,
   "metadata": {},
   "outputs": [],
   "source": [
    "vals = {}\n",
    "for i in x:\n",
    "    if i['userId'] not in vals:\n",
    "        vals[i['userId']] = {\n",
    "            'home': 0,\n",
    "            'office': 0,\n",
    "        }\n",
    "    if i['place'] == 'home':\n",
    "        vals[i['userId']]['home'] += 1\n",
    "    elif i['place']=='work':\n",
    "        vals[i['userId']]['office'] += 1\n",
    "print(vals)\n",
    "    "
   ]
  }
 ],
 "metadata": {
  "kernelspec": {
   "display_name": "Python 3.10.5 ('venv': venv)",
   "language": "python",
   "name": "python3"
  },
  "language_info": {
   "codemirror_mode": {
    "name": "ipython",
    "version": 3
   },
   "file_extension": ".py",
   "mimetype": "text/x-python",
   "name": "python",
   "nbconvert_exporter": "python",
   "pygments_lexer": "ipython3",
   "version": "3.10.5"
  },
  "orig_nbformat": 4,
  "vscode": {
   "interpreter": {
    "hash": "649aaad9f4b35690340e734cd2be7fe206fe1af28cca133ea9f90da21ed5b594"
   }
  }
 },
 "nbformat": 4,
 "nbformat_minor": 2
}
