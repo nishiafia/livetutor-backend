{
 "cells": [
  {
   "cell_type": "code",
   "execution_count": 1,
   "metadata": {},
   "outputs": [],
   "source": [
    "import os\n",
    "import django\n",
    "os.environ.setdefault('DJANGO_SETTINGS_MODULE', 'livetutor.settings')\n",
    "os.environ[\"DJANGO_ALLOW_ASYNC_UNSAFE\"] = \"true\"\n",
    "django.setup()\n",
    "from users.models import *\n",
    "from room.models import *\n",
    "from task.models import *\n",
    "from meeting.models import *\n",
    "from django.db.models import  *\n",
    "from payment.models import *\n",
    "from listing.models import *\n",
    "from categories.models import *"
   ]
  },
  {
   "cell_type": "code",
   "execution_count": 5,
   "metadata": {},
   "outputs": [
    {
     "data": {
      "text/plain": [
       "['__call__',\n",
       " '__class__',\n",
       " '__class_getitem__',\n",
       " '__delattr__',\n",
       " '__dict__',\n",
       " '__dir__',\n",
       " '__doc__',\n",
       " '__eq__',\n",
       " '__format__',\n",
       " '__ge__',\n",
       " '__getattribute__',\n",
       " '__gt__',\n",
       " '__hash__',\n",
       " '__init__',\n",
       " '__init_subclass__',\n",
       " '__le__',\n",
       " '__lt__',\n",
       " '__module__',\n",
       " '__ne__',\n",
       " '__new__',\n",
       " '__reduce__',\n",
       " '__reduce_ex__',\n",
       " '__repr__',\n",
       " '__setattr__',\n",
       " '__sizeof__',\n",
       " '__slotnames__',\n",
       " '__str__',\n",
       " '__subclasshook__',\n",
       " '__weakref__',\n",
       " '_apply_rel_filters',\n",
       " '_constructor_args',\n",
       " '_db',\n",
       " '_get_queryset_methods',\n",
       " '_hints',\n",
       " '_insert',\n",
       " '_queryset_class',\n",
       " '_remove_prefetched_objects',\n",
       " '_set_creation_counter',\n",
       " '_update',\n",
       " 'add',\n",
       " 'aggregate',\n",
       " 'alias',\n",
       " 'all',\n",
       " 'annotate',\n",
       " 'auto_created',\n",
       " 'bulk_create',\n",
       " 'bulk_update',\n",
       " 'check',\n",
       " 'complex_filter',\n",
       " 'contains',\n",
       " 'contribute_to_class',\n",
       " 'core_filters',\n",
       " 'count',\n",
       " 'create',\n",
       " 'creation_counter',\n",
       " 'dates',\n",
       " 'datetimes',\n",
       " 'db',\n",
       " 'db_manager',\n",
       " 'deconstruct',\n",
       " 'defer',\n",
       " 'difference',\n",
       " 'distinct',\n",
       " 'do_not_call_in_templates',\n",
       " 'earliest',\n",
       " 'exclude',\n",
       " 'exists',\n",
       " 'explain',\n",
       " 'extra',\n",
       " 'field',\n",
       " 'filter',\n",
       " 'first',\n",
       " 'from_queryset',\n",
       " 'get',\n",
       " 'get_or_create',\n",
       " 'get_prefetch_queryset',\n",
       " 'get_queryset',\n",
       " 'in_bulk',\n",
       " 'instance',\n",
       " 'intersection',\n",
       " 'iterator',\n",
       " 'last',\n",
       " 'latest',\n",
       " 'model',\n",
       " 'name',\n",
       " 'none',\n",
       " 'only',\n",
       " 'order_by',\n",
       " 'prefetch_related',\n",
       " 'raw',\n",
       " 'reverse',\n",
       " 'select_for_update',\n",
       " 'select_related',\n",
       " 'set',\n",
       " 'union',\n",
       " 'update',\n",
       " 'update_or_create',\n",
       " 'use_in_migrations',\n",
       " 'using',\n",
       " 'values',\n",
       " 'values_list']"
      ]
     },
     "execution_count": 5,
     "metadata": {},
     "output_type": "execute_result"
    }
   ],
   "source": [
    "dir(RoomUser.objects.get(\n",
    "    id='da595f825f324b49b7b47c5f28a09c3b').room_user_fees)\n",
    "\n"
   ]
  },
  {
   "cell_type": "code",
   "execution_count": 26,
   "metadata": {},
   "outputs": [
    {
     "data": {
      "text/plain": [
       "<QuerySet [{'room_user_fee': 'cd1b23ca11ad4501a87f25a75edf047d'}, {'room_user_fee': '45bc505880584106b144bb931f16760a'}, {'room_user_fee': '9f6f8706de254baba3f1fbca59057ff0'}, {'room_user_fee': '77a39af36f044a38a424f798aa0ea8d7'}]>"
      ]
     },
     "execution_count": 26,
     "metadata": {},
     "output_type": "execute_result"
    }
   ],
   "source": [
    "Payment.objects.all().values('room_user_fee')"
   ]
  },
  {
   "cell_type": "code",
   "execution_count": 24,
   "metadata": {},
   "outputs": [
    {
     "data": {
      "text/plain": [
       "<QuerySet [<RoomUser: RoomUser object (da595f825f324b49b7b47c5f28a09c3b)>, <RoomUser: RoomUser object (4d335f1b74b64e5a840846269885d7ee)>]>"
      ]
     },
     "execution_count": 24,
     "metadata": {},
     "output_type": "execute_result"
    }
   ],
   "source": [
    "RoomUser.objects.all()"
   ]
  },
  {
   "cell_type": "code",
   "execution_count": 10,
   "metadata": {},
   "outputs": [
    {
     "data": {
      "text/plain": [
       "<QuerySet [{'id': '35f8d8b3ded7448a9afd75a2e3acbb22', 'created_at': datetime.datetime(2022, 7, 26, 16, 56, 55, 868395, tzinfo=datetime.timezone.utc), 'updated_at': datetime.datetime(2022, 7, 26, 16, 56, 55, 868395, tzinfo=datetime.timezone.utc), 'is_active': True, 'room_user_id': '4d335f1b74b64e5a840846269885d7ee', 'room_fee_id': '039e50e1e5224626ac4a0623f206359e'}, {'id': '33e34afc97a241c7bc692256d6762002', 'created_at': datetime.datetime(2022, 7, 26, 16, 56, 55, 849393, tzinfo=datetime.timezone.utc), 'updated_at': datetime.datetime(2022, 7, 26, 16, 56, 55, 849393, tzinfo=datetime.timezone.utc), 'is_active': True, 'room_user_id': '4d335f1b74b64e5a840846269885d7ee', 'room_fee_id': '5bebbbd66a444038a4212e9d8a1c4fce'}, {'id': '77a39af36f044a38a424f798aa0ea8d7', 'created_at': datetime.datetime(2022, 7, 26, 16, 56, 55, 885396, tzinfo=datetime.timezone.utc), 'updated_at': datetime.datetime(2022, 7, 26, 16, 56, 55, 885396, tzinfo=datetime.timezone.utc), 'is_active': True, 'room_user_id': '4d335f1b74b64e5a840846269885d7ee', 'room_fee_id': '9e44e4d679974aa5a98bdc9f7fe47635'}, {'id': '9f6f8706de254baba3f1fbca59057ff0', 'created_at': datetime.datetime(2022, 7, 26, 16, 56, 55, 831148, tzinfo=datetime.timezone.utc), 'updated_at': datetime.datetime(2022, 7, 26, 16, 56, 55, 831148, tzinfo=datetime.timezone.utc), 'is_active': True, 'room_user_id': '4d335f1b74b64e5a840846269885d7ee', 'room_fee_id': 'c1f5f4c887804012bedfdb04bc46d253'}, {'id': '928b7b8ccacc4e1c90b195b4e8186cc9', 'created_at': datetime.datetime(2022, 7, 26, 17, 15, 54, 752391, tzinfo=datetime.timezone.utc), 'updated_at': datetime.datetime(2022, 7, 26, 17, 15, 54, 753390, tzinfo=datetime.timezone.utc), 'is_active': True, 'room_user_id': '4d335f1b74b64e5a840846269885d7ee', 'room_fee_id': 'fd200fbe935643d885587a1d701bc709'}]>"
      ]
     },
     "execution_count": 10,
     "metadata": {},
     "output_type": "execute_result"
    }
   ],
   "source": [
    "RoomUser.objects.get(\n",
    "    id='4d335f1b74b64e5a840846269885d7ee').room_user_fees.values('payments').values()\n"
   ]
  },
  {
   "cell_type": "code",
   "execution_count": 3,
   "metadata": {},
   "outputs": [
    {
     "ename": "FieldError",
     "evalue": "Cannot resolve keyword 'roomuserfee' into field. Choices are: created_at, fee, fee_id, id, is_active, month, room, room_id, room_user, room_user_fees, updated_at, year",
     "output_type": "error",
     "traceback": [
      "\u001b[1;31m---------------------------------------------------------------------------\u001b[0m",
      "\u001b[1;31mFieldError\u001b[0m                                Traceback (most recent call last)",
      "\u001b[1;32mc:\\Users\\yeami\\livetutor\\playground.ipynb Cell 3\u001b[0m in \u001b[0;36m<cell line: 1>\u001b[1;34m()\u001b[0m\n\u001b[1;32m----> <a href='vscode-notebook-cell:/c%3A/Users/yeami/livetutor/playground.ipynb#ch0000016?line=0'>1</a>\u001b[0m RoomFee\u001b[39m.\u001b[39;49mobjects\u001b[39m.\u001b[39;49mvalues(\n\u001b[0;32m      <a href='vscode-notebook-cell:/c%3A/Users/yeami/livetutor/playground.ipynb#ch0000016?line=1'>2</a>\u001b[0m     \u001b[39m'\u001b[39;49m\u001b[39mroom_user\u001b[39;49m\u001b[39m'\u001b[39;49m\n\u001b[0;32m      <a href='vscode-notebook-cell:/c%3A/Users/yeami/livetutor/playground.ipynb#ch0000016?line=2'>3</a>\u001b[0m )\u001b[39m.\u001b[39;49mannotate(\n\u001b[0;32m      <a href='vscode-notebook-cell:/c%3A/Users/yeami/livetutor/playground.ipynb#ch0000016?line=3'>4</a>\u001b[0m     total\u001b[39m=\u001b[39;49mCount(\u001b[39m'\u001b[39;49m\u001b[39mroomuserfee__payment\u001b[39;49m\u001b[39m'\u001b[39;49m)\n\u001b[0;32m      <a href='vscode-notebook-cell:/c%3A/Users/yeami/livetutor/playground.ipynb#ch0000016?line=4'>5</a>\u001b[0m )\n",
      "File \u001b[1;32mc:\\Users\\yeami\\livetutor\\venv\\lib\\site-packages\\django\\db\\models\\query.py:1225\u001b[0m, in \u001b[0;36mQuerySet.annotate\u001b[1;34m(self, *args, **kwargs)\u001b[0m\n\u001b[0;32m   1220\u001b[0m \u001b[39m\"\"\"\u001b[39;00m\n\u001b[0;32m   1221\u001b[0m \u001b[39mReturn a query set in which the returned objects have been annotated\u001b[39;00m\n\u001b[0;32m   1222\u001b[0m \u001b[39mwith extra data or aggregations.\u001b[39;00m\n\u001b[0;32m   1223\u001b[0m \u001b[39m\"\"\"\u001b[39;00m\n\u001b[0;32m   1224\u001b[0m \u001b[39mself\u001b[39m\u001b[39m.\u001b[39m_not_support_combined_queries(\u001b[39m\"\u001b[39m\u001b[39mannotate\u001b[39m\u001b[39m\"\u001b[39m)\n\u001b[1;32m-> 1225\u001b[0m \u001b[39mreturn\u001b[39;00m \u001b[39mself\u001b[39;49m\u001b[39m.\u001b[39;49m_annotate(args, kwargs, select\u001b[39m=\u001b[39;49m\u001b[39mTrue\u001b[39;49;00m)\n",
      "File \u001b[1;32mc:\\Users\\yeami\\livetutor\\venv\\lib\\site-packages\\django\\db\\models\\query.py:1273\u001b[0m, in \u001b[0;36mQuerySet._annotate\u001b[1;34m(self, args, kwargs, select)\u001b[0m\n\u001b[0;32m   1271\u001b[0m         clone\u001b[39m.\u001b[39mquery\u001b[39m.\u001b[39madd_filtered_relation(annotation, alias)\n\u001b[0;32m   1272\u001b[0m     \u001b[39melse\u001b[39;00m:\n\u001b[1;32m-> 1273\u001b[0m         clone\u001b[39m.\u001b[39;49mquery\u001b[39m.\u001b[39;49madd_annotation(\n\u001b[0;32m   1274\u001b[0m             annotation,\n\u001b[0;32m   1275\u001b[0m             alias,\n\u001b[0;32m   1276\u001b[0m             is_summary\u001b[39m=\u001b[39;49m\u001b[39mFalse\u001b[39;49;00m,\n\u001b[0;32m   1277\u001b[0m             select\u001b[39m=\u001b[39;49mselect,\n\u001b[0;32m   1278\u001b[0m         )\n\u001b[0;32m   1279\u001b[0m \u001b[39mfor\u001b[39;00m alias, annotation \u001b[39min\u001b[39;00m clone\u001b[39m.\u001b[39mquery\u001b[39m.\u001b[39mannotations\u001b[39m.\u001b[39mitems():\n\u001b[0;32m   1280\u001b[0m     \u001b[39mif\u001b[39;00m alias \u001b[39min\u001b[39;00m annotations \u001b[39mand\u001b[39;00m annotation\u001b[39m.\u001b[39mcontains_aggregate:\n",
      "File \u001b[1;32mc:\\Users\\yeami\\livetutor\\venv\\lib\\site-packages\\django\\db\\models\\sql\\query.py:1105\u001b[0m, in \u001b[0;36mQuery.add_annotation\u001b[1;34m(self, annotation, alias, is_summary, select)\u001b[0m\n\u001b[0;32m   1103\u001b[0m \u001b[39m\"\"\"Add a single annotation expression to the Query.\"\"\"\u001b[39;00m\n\u001b[0;32m   1104\u001b[0m \u001b[39mself\u001b[39m\u001b[39m.\u001b[39mcheck_alias(alias)\n\u001b[1;32m-> 1105\u001b[0m annotation \u001b[39m=\u001b[39m annotation\u001b[39m.\u001b[39;49mresolve_expression(\n\u001b[0;32m   1106\u001b[0m     \u001b[39mself\u001b[39;49m, allow_joins\u001b[39m=\u001b[39;49m\u001b[39mTrue\u001b[39;49;00m, reuse\u001b[39m=\u001b[39;49m\u001b[39mNone\u001b[39;49;00m, summarize\u001b[39m=\u001b[39;49mis_summary\n\u001b[0;32m   1107\u001b[0m )\n\u001b[0;32m   1108\u001b[0m \u001b[39mif\u001b[39;00m select:\n\u001b[0;32m   1109\u001b[0m     \u001b[39mself\u001b[39m\u001b[39m.\u001b[39mappend_annotation_mask([alias])\n",
      "File \u001b[1;32mc:\\Users\\yeami\\livetutor\\venv\\lib\\site-packages\\django\\db\\models\\aggregates.py:64\u001b[0m, in \u001b[0;36mAggregate.resolve_expression\u001b[1;34m(self, query, allow_joins, reuse, summarize, for_save)\u001b[0m\n\u001b[0;32m     60\u001b[0m \u001b[39mdef\u001b[39;00m \u001b[39mresolve_expression\u001b[39m(\n\u001b[0;32m     61\u001b[0m     \u001b[39mself\u001b[39m, query\u001b[39m=\u001b[39m\u001b[39mNone\u001b[39;00m, allow_joins\u001b[39m=\u001b[39m\u001b[39mTrue\u001b[39;00m, reuse\u001b[39m=\u001b[39m\u001b[39mNone\u001b[39;00m, summarize\u001b[39m=\u001b[39m\u001b[39mFalse\u001b[39;00m, for_save\u001b[39m=\u001b[39m\u001b[39mFalse\u001b[39;00m\n\u001b[0;32m     62\u001b[0m ):\n\u001b[0;32m     63\u001b[0m     \u001b[39m# Aggregates are not allowed in UPDATE queries, so ignore for_save\u001b[39;00m\n\u001b[1;32m---> 64\u001b[0m     c \u001b[39m=\u001b[39m \u001b[39msuper\u001b[39;49m()\u001b[39m.\u001b[39;49mresolve_expression(query, allow_joins, reuse, summarize)\n\u001b[0;32m     65\u001b[0m     c\u001b[39m.\u001b[39mfilter \u001b[39m=\u001b[39m c\u001b[39m.\u001b[39mfilter \u001b[39mand\u001b[39;00m c\u001b[39m.\u001b[39mfilter\u001b[39m.\u001b[39mresolve_expression(\n\u001b[0;32m     66\u001b[0m         query, allow_joins, reuse, summarize\n\u001b[0;32m     67\u001b[0m     )\n\u001b[0;32m     68\u001b[0m     \u001b[39mif\u001b[39;00m \u001b[39mnot\u001b[39;00m summarize:\n\u001b[0;32m     69\u001b[0m         \u001b[39m# Call Aggregate.get_source_expressions() to avoid\u001b[39;00m\n\u001b[0;32m     70\u001b[0m         \u001b[39m# returning self.filter and including that in this loop.\u001b[39;00m\n",
      "File \u001b[1;32mc:\\Users\\yeami\\livetutor\\venv\\lib\\site-packages\\django\\db\\models\\expressions.py:762\u001b[0m, in \u001b[0;36mFunc.resolve_expression\u001b[1;34m(self, query, allow_joins, reuse, summarize, for_save)\u001b[0m\n\u001b[0;32m    760\u001b[0m c\u001b[39m.\u001b[39mis_summary \u001b[39m=\u001b[39m summarize\n\u001b[0;32m    761\u001b[0m \u001b[39mfor\u001b[39;00m pos, arg \u001b[39min\u001b[39;00m \u001b[39menumerate\u001b[39m(c\u001b[39m.\u001b[39msource_expressions):\n\u001b[1;32m--> 762\u001b[0m     c\u001b[39m.\u001b[39msource_expressions[pos] \u001b[39m=\u001b[39m arg\u001b[39m.\u001b[39;49mresolve_expression(\n\u001b[0;32m    763\u001b[0m         query, allow_joins, reuse, summarize, for_save\n\u001b[0;32m    764\u001b[0m     )\n\u001b[0;32m    765\u001b[0m \u001b[39mreturn\u001b[39;00m c\n",
      "File \u001b[1;32mc:\\Users\\yeami\\livetutor\\venv\\lib\\site-packages\\django\\db\\models\\expressions.py:655\u001b[0m, in \u001b[0;36mF.resolve_expression\u001b[1;34m(self, query, allow_joins, reuse, summarize, for_save)\u001b[0m\n\u001b[0;32m    652\u001b[0m \u001b[39mdef\u001b[39;00m \u001b[39mresolve_expression\u001b[39m(\n\u001b[0;32m    653\u001b[0m     \u001b[39mself\u001b[39m, query\u001b[39m=\u001b[39m\u001b[39mNone\u001b[39;00m, allow_joins\u001b[39m=\u001b[39m\u001b[39mTrue\u001b[39;00m, reuse\u001b[39m=\u001b[39m\u001b[39mNone\u001b[39;00m, summarize\u001b[39m=\u001b[39m\u001b[39mFalse\u001b[39;00m, for_save\u001b[39m=\u001b[39m\u001b[39mFalse\u001b[39;00m\n\u001b[0;32m    654\u001b[0m ):\n\u001b[1;32m--> 655\u001b[0m     \u001b[39mreturn\u001b[39;00m query\u001b[39m.\u001b[39;49mresolve_ref(\u001b[39mself\u001b[39;49m\u001b[39m.\u001b[39;49mname, allow_joins, reuse, summarize)\n",
      "File \u001b[1;32mc:\\Users\\yeami\\livetutor\\venv\\lib\\site-packages\\django\\db\\models\\sql\\query.py:1922\u001b[0m, in \u001b[0;36mQuery.resolve_ref\u001b[1;34m(self, name, allow_joins, reuse, summarize)\u001b[0m\n\u001b[0;32m   1920\u001b[0m         annotation \u001b[39m=\u001b[39m \u001b[39mself\u001b[39m\u001b[39m.\u001b[39mtry_transform(annotation, transform)\n\u001b[0;32m   1921\u001b[0m     \u001b[39mreturn\u001b[39;00m annotation\n\u001b[1;32m-> 1922\u001b[0m join_info \u001b[39m=\u001b[39m \u001b[39mself\u001b[39;49m\u001b[39m.\u001b[39;49msetup_joins(\n\u001b[0;32m   1923\u001b[0m     field_list, \u001b[39mself\u001b[39;49m\u001b[39m.\u001b[39;49mget_meta(), \u001b[39mself\u001b[39;49m\u001b[39m.\u001b[39;49mget_initial_alias(), can_reuse\u001b[39m=\u001b[39;49mreuse\n\u001b[0;32m   1924\u001b[0m )\n\u001b[0;32m   1925\u001b[0m targets, final_alias, join_list \u001b[39m=\u001b[39m \u001b[39mself\u001b[39m\u001b[39m.\u001b[39mtrim_joins(\n\u001b[0;32m   1926\u001b[0m     join_info\u001b[39m.\u001b[39mtargets, join_info\u001b[39m.\u001b[39mjoins, join_info\u001b[39m.\u001b[39mpath\n\u001b[0;32m   1927\u001b[0m )\n\u001b[0;32m   1928\u001b[0m \u001b[39mif\u001b[39;00m \u001b[39mnot\u001b[39;00m allow_joins \u001b[39mand\u001b[39;00m \u001b[39mlen\u001b[39m(join_list) \u001b[39m>\u001b[39m \u001b[39m1\u001b[39m:\n",
      "File \u001b[1;32mc:\\Users\\yeami\\livetutor\\venv\\lib\\site-packages\\django\\db\\models\\sql\\query.py:1773\u001b[0m, in \u001b[0;36mQuery.setup_joins\u001b[1;34m(self, names, opts, alias, can_reuse, allow_many, reuse_with_filtered_relation)\u001b[0m\n\u001b[0;32m   1771\u001b[0m \u001b[39mfor\u001b[39;00m pivot \u001b[39min\u001b[39;00m \u001b[39mrange\u001b[39m(\u001b[39mlen\u001b[39m(names), \u001b[39m0\u001b[39m, \u001b[39m-\u001b[39m\u001b[39m1\u001b[39m):\n\u001b[0;32m   1772\u001b[0m     \u001b[39mtry\u001b[39;00m:\n\u001b[1;32m-> 1773\u001b[0m         path, final_field, targets, rest \u001b[39m=\u001b[39m \u001b[39mself\u001b[39;49m\u001b[39m.\u001b[39;49mnames_to_path(\n\u001b[0;32m   1774\u001b[0m             names[:pivot],\n\u001b[0;32m   1775\u001b[0m             opts,\n\u001b[0;32m   1776\u001b[0m             allow_many,\n\u001b[0;32m   1777\u001b[0m             fail_on_missing\u001b[39m=\u001b[39;49m\u001b[39mTrue\u001b[39;49;00m,\n\u001b[0;32m   1778\u001b[0m         )\n\u001b[0;32m   1779\u001b[0m     \u001b[39mexcept\u001b[39;00m FieldError \u001b[39mas\u001b[39;00m exc:\n\u001b[0;32m   1780\u001b[0m         \u001b[39mif\u001b[39;00m pivot \u001b[39m==\u001b[39m \u001b[39m1\u001b[39m:\n\u001b[0;32m   1781\u001b[0m             \u001b[39m# The first item cannot be a lookup, so it's safe\u001b[39;00m\n\u001b[0;32m   1782\u001b[0m             \u001b[39m# to raise the field error here.\u001b[39;00m\n",
      "File \u001b[1;32mc:\\Users\\yeami\\livetutor\\venv\\lib\\site-packages\\django\\db\\models\\sql\\query.py:1677\u001b[0m, in \u001b[0;36mQuery.names_to_path\u001b[1;34m(self, names, opts, allow_many, fail_on_missing)\u001b[0m\n\u001b[0;32m   1669\u001b[0m     \u001b[39mif\u001b[39;00m pos \u001b[39m==\u001b[39m \u001b[39m-\u001b[39m\u001b[39m1\u001b[39m \u001b[39mor\u001b[39;00m fail_on_missing:\n\u001b[0;32m   1670\u001b[0m         available \u001b[39m=\u001b[39m \u001b[39msorted\u001b[39m(\n\u001b[0;32m   1671\u001b[0m             [\n\u001b[0;32m   1672\u001b[0m                 \u001b[39m*\u001b[39mget_field_names_from_opts(opts),\n\u001b[1;32m   (...)\u001b[0m\n\u001b[0;32m   1675\u001b[0m             ]\n\u001b[0;32m   1676\u001b[0m         )\n\u001b[1;32m-> 1677\u001b[0m         \u001b[39mraise\u001b[39;00m FieldError(\n\u001b[0;32m   1678\u001b[0m             \u001b[39m\"\u001b[39m\u001b[39mCannot resolve keyword \u001b[39m\u001b[39m'\u001b[39m\u001b[39m%s\u001b[39;00m\u001b[39m'\u001b[39m\u001b[39m into field. \u001b[39m\u001b[39m\"\u001b[39m\n\u001b[0;32m   1679\u001b[0m             \u001b[39m\"\u001b[39m\u001b[39mChoices are: \u001b[39m\u001b[39m%s\u001b[39;00m\u001b[39m\"\u001b[39m \u001b[39m%\u001b[39m (name, \u001b[39m\"\u001b[39m\u001b[39m, \u001b[39m\u001b[39m\"\u001b[39m\u001b[39m.\u001b[39mjoin(available))\n\u001b[0;32m   1680\u001b[0m         )\n\u001b[0;32m   1681\u001b[0m     \u001b[39mbreak\u001b[39;00m\n\u001b[0;32m   1682\u001b[0m \u001b[39m# Check if we need any joins for concrete inheritance cases (the\u001b[39;00m\n\u001b[0;32m   1683\u001b[0m \u001b[39m# field lives in parent, but we are currently in one of its\u001b[39;00m\n\u001b[0;32m   1684\u001b[0m \u001b[39m# children)\u001b[39;00m\n",
      "\u001b[1;31mFieldError\u001b[0m: Cannot resolve keyword 'roomuserfee' into field. Choices are: created_at, fee, fee_id, id, is_active, month, room, room_id, room_user, room_user_fees, updated_at, year"
     ]
    }
   ],
   "source": [
    "RoomFee.objects.values(\n",
    "    'room_user'\n",
    ").annotate(\n",
    "    total=Count('roomuserfee__payment')\n",
    ")\n"
   ]
  },
  {
   "cell_type": "code",
   "execution_count": null,
   "metadata": {},
   "outputs": [],
   "source": [
    "a,c=ExamSubmissionMark.objects.get_or_create(\n",
    "    exam_submission_id='e0f499602d1744e8b91b8df800fdd0d6'\n",
    ")"
   ]
  },
  {
   "cell_type": "code",
   "execution_count": null,
   "metadata": {},
   "outputs": [],
   "source": [
    "a.mark"
   ]
  },
  {
   "cell_type": "code",
   "execution_count": null,
   "metadata": {},
   "outputs": [],
   "source": [
    "a.mark=55\n",
    "a.save()"
   ]
  },
  {
   "cell_type": "code",
   "execution_count": null,
   "metadata": {},
   "outputs": [],
   "source": [
    "a.mark"
   ]
  },
  {
   "cell_type": "code",
   "execution_count": null,
   "metadata": {},
   "outputs": [],
   "source": [
    "AssignmentSubmission.objects.get(\n",
    "    id=''\n",
    ").submission_mark"
   ]
  },
  {
   "cell_type": "code",
   "execution_count": null,
   "metadata": {},
   "outputs": [],
   "source": [
    "Meeting.objects.all().values()\n"
   ]
  },
  {
   "cell_type": "code",
   "execution_count": null,
   "metadata": {},
   "outputs": [],
   "source": [
    "TeacherListing.objects.all().values()"
   ]
  },
  {
   "cell_type": "code",
   "execution_count": null,
   "metadata": {},
   "outputs": [],
   "source": [
    "Meeting.objects.filter(\n",
    ").values('room__author')\n"
   ]
  },
  {
   "cell_type": "code",
   "execution_count": null,
   "metadata": {},
   "outputs": [],
   "source": []
  },
  {
   "cell_type": "code",
   "execution_count": null,
   "metadata": {},
   "outputs": [],
   "source": [
    "TeacherListing.objects.filter(grades__in=[1,3])"
   ]
  },
  {
   "cell_type": "code",
   "execution_count": null,
   "metadata": {},
   "outputs": [],
   "source": []
  },
  {
   "cell_type": "code",
   "execution_count": null,
   "metadata": {},
   "outputs": [],
   "source": [
    "Activity.objects.create(userId=2, date='2022-01-01', place='home')"
   ]
  },
  {
   "cell_type": "code",
   "execution_count": null,
   "metadata": {},
   "outputs": [],
   "source": [
    "x=Activity.objects.values('userId','date').annotate(place=Max('place'))"
   ]
  },
  {
   "cell_type": "code",
   "execution_count": null,
   "metadata": {},
   "outputs": [],
   "source": [
    "print(x.query)"
   ]
  },
  {
   "cell_type": "code",
   "execution_count": null,
   "metadata": {},
   "outputs": [],
   "source": [
    "vals = {}\n",
    "for i in x:\n",
    "    if i['userId'] not in vals:\n",
    "        vals[i['userId']] = {\n",
    "            'home': 0,\n",
    "            'office': 0,\n",
    "        }\n",
    "    if i['place'] == 'home':\n",
    "        vals[i['userId']]['home'] += 1\n",
    "    elif i['place']=='work':\n",
    "        vals[i['userId']]['office'] += 1\n",
    "print(vals)\n",
    "    "
   ]
  }
 ],
 "metadata": {
  "kernelspec": {
   "display_name": "Python 3.10.5 ('venv': venv)",
   "language": "python",
   "name": "python3"
  },
  "language_info": {
   "codemirror_mode": {
    "name": "ipython",
    "version": 3
   },
   "file_extension": ".py",
   "mimetype": "text/x-python",
   "name": "python",
   "nbconvert_exporter": "python",
   "pygments_lexer": "ipython3",
   "version": "3.10.5"
  },
  "orig_nbformat": 4,
  "vscode": {
   "interpreter": {
    "hash": "649aaad9f4b35690340e734cd2be7fe206fe1af28cca133ea9f90da21ed5b594"
   }
  }
 },
 "nbformat": 4,
 "nbformat_minor": 2
}
